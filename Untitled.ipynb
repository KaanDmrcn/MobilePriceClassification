{
 "cells": [
  {
   "cell_type": "code",
   "execution_count": 14,
   "id": "30b97cca-aafa-446e-ba93-2259abe4a1b1",
   "metadata": {},
   "outputs": [],
   "source": [
    "import pandas as pd"
   ]
  },
  {
   "cell_type": "code",
   "execution_count": 15,
   "id": "afad8acf-a05d-4fc4-a899-db4a4ea6965d",
   "metadata": {},
   "outputs": [],
   "source": [
    "data = pd.read_csv('train.csv')"
   ]
  },
  {
   "cell_type": "code",
   "execution_count": 16,
   "id": "54041c57-72b9-46a4-a719-15c4d28f6613",
   "metadata": {
    "tags": []
   },
   "outputs": [
    {
     "name": "stdout",
     "output_type": "stream",
     "text": [
      "<class 'pandas.core.frame.DataFrame'>\n",
      "RangeIndex: 2000 entries, 0 to 1999\n",
      "Data columns (total 21 columns):\n",
      " #   Column         Non-Null Count  Dtype  \n",
      "---  ------         --------------  -----  \n",
      " 0   battery_power  2000 non-null   int64  \n",
      " 1   blue           2000 non-null   int64  \n",
      " 2   clock_speed    2000 non-null   float64\n",
      " 3   dual_sim       2000 non-null   int64  \n",
      " 4   fc             2000 non-null   int64  \n",
      " 5   four_g         2000 non-null   int64  \n",
      " 6   int_memory     2000 non-null   int64  \n",
      " 7   m_dep          2000 non-null   float64\n",
      " 8   mobile_wt      2000 non-null   int64  \n",
      " 9   n_cores        2000 non-null   int64  \n",
      " 10  pc             2000 non-null   int64  \n",
      " 11  px_height      2000 non-null   int64  \n",
      " 12  px_width       2000 non-null   int64  \n",
      " 13  ram            2000 non-null   int64  \n",
      " 14  sc_h           2000 non-null   int64  \n",
      " 15  sc_w           2000 non-null   int64  \n",
      " 16  talk_time      2000 non-null   int64  \n",
      " 17  three_g        2000 non-null   int64  \n",
      " 18  touch_screen   2000 non-null   int64  \n",
      " 19  wifi           2000 non-null   int64  \n",
      " 20  price_range    2000 non-null   int64  \n",
      "dtypes: float64(2), int64(19)\n",
      "memory usage: 328.2 KB\n"
     ]
    }
   ],
   "source": [
    "data.info()"
   ]
  },
  {
   "cell_type": "code",
   "execution_count": 17,
   "id": "4a531010-1a83-41ff-bbf0-0e637c1729e7",
   "metadata": {},
   "outputs": [],
   "source": [
    "y = data[\"price_range\"]\n",
    "X = data.drop(\"price_range\",axis = 1)"
   ]
  },
  {
   "cell_type": "code",
   "execution_count": 25,
   "id": "246243cf-5ce2-40b3-94d2-59b925add7c5",
   "metadata": {},
   "outputs": [
    {
     "data": {
      "text/html": [
       "<div>\n",
       "<style scoped>\n",
       "    .dataframe tbody tr th:only-of-type {\n",
       "        vertical-align: middle;\n",
       "    }\n",
       "\n",
       "    .dataframe tbody tr th {\n",
       "        vertical-align: top;\n",
       "    }\n",
       "\n",
       "    .dataframe thead th {\n",
       "        text-align: right;\n",
       "    }\n",
       "</style>\n",
       "<table border=\"1\" class=\"dataframe\">\n",
       "  <thead>\n",
       "    <tr style=\"text-align: right;\">\n",
       "      <th></th>\n",
       "      <th>battery_power</th>\n",
       "      <th>blue</th>\n",
       "      <th>clock_speed</th>\n",
       "      <th>dual_sim</th>\n",
       "      <th>fc</th>\n",
       "      <th>four_g</th>\n",
       "      <th>int_memory</th>\n",
       "      <th>m_dep</th>\n",
       "      <th>mobile_wt</th>\n",
       "      <th>n_cores</th>\n",
       "      <th>pc</th>\n",
       "      <th>px_height</th>\n",
       "      <th>px_width</th>\n",
       "      <th>ram</th>\n",
       "      <th>sc_h</th>\n",
       "      <th>sc_w</th>\n",
       "      <th>talk_time</th>\n",
       "      <th>three_g</th>\n",
       "      <th>touch_screen</th>\n",
       "      <th>wifi</th>\n",
       "    </tr>\n",
       "  </thead>\n",
       "  <tbody>\n",
       "    <tr>\n",
       "      <th>0</th>\n",
       "      <td>842</td>\n",
       "      <td>0</td>\n",
       "      <td>2.2</td>\n",
       "      <td>0</td>\n",
       "      <td>1</td>\n",
       "      <td>0</td>\n",
       "      <td>7</td>\n",
       "      <td>0.6</td>\n",
       "      <td>188</td>\n",
       "      <td>2</td>\n",
       "      <td>2</td>\n",
       "      <td>20</td>\n",
       "      <td>756</td>\n",
       "      <td>2549</td>\n",
       "      <td>9</td>\n",
       "      <td>7</td>\n",
       "      <td>19</td>\n",
       "      <td>0</td>\n",
       "      <td>0</td>\n",
       "      <td>1</td>\n",
       "    </tr>\n",
       "    <tr>\n",
       "      <th>1</th>\n",
       "      <td>1021</td>\n",
       "      <td>1</td>\n",
       "      <td>0.5</td>\n",
       "      <td>1</td>\n",
       "      <td>0</td>\n",
       "      <td>1</td>\n",
       "      <td>53</td>\n",
       "      <td>0.7</td>\n",
       "      <td>136</td>\n",
       "      <td>3</td>\n",
       "      <td>6</td>\n",
       "      <td>905</td>\n",
       "      <td>1988</td>\n",
       "      <td>2631</td>\n",
       "      <td>17</td>\n",
       "      <td>3</td>\n",
       "      <td>7</td>\n",
       "      <td>1</td>\n",
       "      <td>1</td>\n",
       "      <td>0</td>\n",
       "    </tr>\n",
       "    <tr>\n",
       "      <th>2</th>\n",
       "      <td>563</td>\n",
       "      <td>1</td>\n",
       "      <td>0.5</td>\n",
       "      <td>1</td>\n",
       "      <td>2</td>\n",
       "      <td>1</td>\n",
       "      <td>41</td>\n",
       "      <td>0.9</td>\n",
       "      <td>145</td>\n",
       "      <td>5</td>\n",
       "      <td>6</td>\n",
       "      <td>1263</td>\n",
       "      <td>1716</td>\n",
       "      <td>2603</td>\n",
       "      <td>11</td>\n",
       "      <td>2</td>\n",
       "      <td>9</td>\n",
       "      <td>1</td>\n",
       "      <td>1</td>\n",
       "      <td>0</td>\n",
       "    </tr>\n",
       "    <tr>\n",
       "      <th>3</th>\n",
       "      <td>615</td>\n",
       "      <td>1</td>\n",
       "      <td>2.5</td>\n",
       "      <td>0</td>\n",
       "      <td>0</td>\n",
       "      <td>0</td>\n",
       "      <td>10</td>\n",
       "      <td>0.8</td>\n",
       "      <td>131</td>\n",
       "      <td>6</td>\n",
       "      <td>9</td>\n",
       "      <td>1216</td>\n",
       "      <td>1786</td>\n",
       "      <td>2769</td>\n",
       "      <td>16</td>\n",
       "      <td>8</td>\n",
       "      <td>11</td>\n",
       "      <td>1</td>\n",
       "      <td>0</td>\n",
       "      <td>0</td>\n",
       "    </tr>\n",
       "    <tr>\n",
       "      <th>4</th>\n",
       "      <td>1821</td>\n",
       "      <td>1</td>\n",
       "      <td>1.2</td>\n",
       "      <td>0</td>\n",
       "      <td>13</td>\n",
       "      <td>1</td>\n",
       "      <td>44</td>\n",
       "      <td>0.6</td>\n",
       "      <td>141</td>\n",
       "      <td>2</td>\n",
       "      <td>14</td>\n",
       "      <td>1208</td>\n",
       "      <td>1212</td>\n",
       "      <td>1411</td>\n",
       "      <td>8</td>\n",
       "      <td>2</td>\n",
       "      <td>15</td>\n",
       "      <td>1</td>\n",
       "      <td>1</td>\n",
       "      <td>0</td>\n",
       "    </tr>\n",
       "  </tbody>\n",
       "</table>\n",
       "</div>"
      ],
      "text/plain": [
       "   battery_power  blue  clock_speed  dual_sim  fc  four_g  int_memory  m_dep  \\\n",
       "0            842     0          2.2         0   1       0           7    0.6   \n",
       "1           1021     1          0.5         1   0       1          53    0.7   \n",
       "2            563     1          0.5         1   2       1          41    0.9   \n",
       "3            615     1          2.5         0   0       0          10    0.8   \n",
       "4           1821     1          1.2         0  13       1          44    0.6   \n",
       "\n",
       "   mobile_wt  n_cores  pc  px_height  px_width   ram  sc_h  sc_w  talk_time  \\\n",
       "0        188        2   2         20       756  2549     9     7         19   \n",
       "1        136        3   6        905      1988  2631    17     3          7   \n",
       "2        145        5   6       1263      1716  2603    11     2          9   \n",
       "3        131        6   9       1216      1786  2769    16     8         11   \n",
       "4        141        2  14       1208      1212  1411     8     2         15   \n",
       "\n",
       "   three_g  touch_screen  wifi  \n",
       "0        0             0     1  \n",
       "1        1             1     0  \n",
       "2        1             1     0  \n",
       "3        1             0     0  \n",
       "4        1             1     0  "
      ]
     },
     "execution_count": 25,
     "metadata": {},
     "output_type": "execute_result"
    }
   ],
   "source": [
    "X.head()"
   ]
  },
  {
   "cell_type": "code",
   "execution_count": 26,
   "id": "53f9b2db-dd41-4408-a9be-ab89977de1a3",
   "metadata": {},
   "outputs": [],
   "source": [
    "from sklearn.model_selection import train_test_split"
   ]
  },
  {
   "cell_type": "code",
   "execution_count": 53,
   "id": "ac8b7183-8a92-44fd-a53c-532d72591ae2",
   "metadata": {},
   "outputs": [],
   "source": [
    "X_train, X_test, y_train, y_test = train_test_split(X,y,test_size=0.2,random_state=15)"
   ]
  },
  {
   "cell_type": "code",
   "execution_count": 54,
   "id": "69baa1f4-bac8-444d-864d-8ac5e1c42de0",
   "metadata": {},
   "outputs": [],
   "source": [
    "from sklearn.naive_bayes import MultinomialNB"
   ]
  },
  {
   "cell_type": "code",
   "execution_count": 55,
   "id": "9c455a57-7086-4f26-9c66-555db924c4a4",
   "metadata": {},
   "outputs": [],
   "source": [
    "mnb = MultinomialNB()"
   ]
  },
  {
   "cell_type": "code",
   "execution_count": 56,
   "id": "5ce430d8-b5a7-4be2-bc51-58caf2c8421e",
   "metadata": {},
   "outputs": [
    {
     "data": {
      "text/plain": [
       "MultinomialNB()"
      ]
     },
     "execution_count": 56,
     "metadata": {},
     "output_type": "execute_result"
    }
   ],
   "source": [
    "mnb.fit(X_train, y_train.ravel())"
   ]
  },
  {
   "cell_type": "code",
   "execution_count": 57,
   "id": "7ea3b848-93cc-4ee6-9922-d870c4047c2d",
   "metadata": {},
   "outputs": [],
   "source": [
    "mnbresult = mnb.predict(X_test)"
   ]
  },
  {
   "cell_type": "code",
   "execution_count": 58,
   "id": "7e61762e-3f3b-4359-91a0-5d99d7ca2403",
   "metadata": {},
   "outputs": [
    {
     "data": {
      "text/plain": [
       "array([0, 3, 1, 1, 3, 3, 1, 3, 3, 0, 0, 2, 0, 1, 3, 2, 3, 2, 2, 3, 2, 3,\n",
       "       2, 2, 0, 3, 1, 0, 3, 3, 3, 0, 1, 0, 0, 2, 2, 1, 2, 2, 3, 3, 0, 3,\n",
       "       2, 1, 0, 2, 1, 3, 2, 2, 1, 3, 1, 3, 0, 3, 1, 3, 3, 1, 1, 3, 1, 3,\n",
       "       1, 3, 3, 0, 2, 1, 1, 2, 3, 2, 0, 2, 3, 3, 2, 2, 3, 2, 3, 2, 1, 0,\n",
       "       1, 3, 1, 3, 3, 1, 2, 1, 1, 3, 2, 0, 3, 1, 0, 0, 3, 0, 2, 0, 1, 3,\n",
       "       0, 0, 3, 0, 3, 0, 3, 0, 3, 2, 0, 0, 2, 3, 3, 3, 3, 1, 2, 1, 2, 3,\n",
       "       1, 1, 2, 2, 1, 2, 0, 0, 3, 0, 0, 3, 1, 0, 3, 1, 3, 1, 3, 1, 1, 0,\n",
       "       3, 0, 1, 2, 3, 2, 0, 2, 2, 1, 1, 1, 3, 0, 2, 0, 2, 2, 2, 3, 0, 1,\n",
       "       3, 2, 1, 1, 0, 2, 0, 3, 1, 1, 2, 3, 2, 1, 3, 3, 3, 0, 3, 3, 0, 3,\n",
       "       0, 0, 1, 3, 0, 0, 1, 3, 1, 0, 2, 3, 2, 0, 1, 3, 3, 2, 2, 0, 2, 2,\n",
       "       0, 0, 3, 0, 2, 1, 1, 1, 1, 0, 1, 3, 3, 2, 1, 1, 0, 1, 3, 3, 1, 0,\n",
       "       2, 1, 0, 2, 1, 1, 1, 0, 0, 2, 3, 0, 0, 2, 3, 1, 3, 3, 2, 1, 1, 3,\n",
       "       0, 3, 3, 3, 0, 1, 2, 3, 1, 1, 0, 2, 1, 3, 0, 1, 3, 2, 3, 3, 0, 1,\n",
       "       0, 0, 2, 0, 3, 2, 1, 2, 3, 0, 0, 3, 3, 2, 2, 1, 3, 3, 0, 1, 3, 3,\n",
       "       0, 3, 3, 1, 2, 2, 1, 3, 3, 3, 0, 1, 0, 3, 3, 0, 3, 3, 1, 0, 2, 0,\n",
       "       3, 0, 3, 3, 0, 3, 0, 0, 1, 1, 1, 0, 2, 3, 0, 0, 1, 0, 3, 3, 3, 0,\n",
       "       0, 2, 0, 3, 3, 3, 0, 3, 3, 3, 3, 1, 3, 0, 0, 3, 2, 1, 2, 1, 2, 0,\n",
       "       2, 1, 1, 1, 2, 0, 3, 0, 3, 0, 2, 2, 0, 3, 1, 3, 3, 1, 1, 1, 2, 2,\n",
       "       3, 2, 2, 3], dtype=int64)"
      ]
     },
     "execution_count": 58,
     "metadata": {},
     "output_type": "execute_result"
    }
   ],
   "source": [
    "mnbresult"
   ]
  },
  {
   "cell_type": "code",
   "execution_count": 59,
   "id": "9fbe1e61-b4e1-4cfd-afc9-6dabb26468eb",
   "metadata": {},
   "outputs": [],
   "source": [
    "from sklearn.metrics import classification_report"
   ]
  },
  {
   "cell_type": "code",
   "execution_count": 60,
   "id": "98525e26-0f29-4313-b468-b1863361b381",
   "metadata": {},
   "outputs": [
    {
     "name": "stdout",
     "output_type": "stream",
     "text": [
      "              precision    recall  f1-score   support\n",
      "\n",
      "           0       0.73      0.75      0.74        93\n",
      "           1       0.43      0.37      0.40       107\n",
      "           2       0.33      0.30      0.31        90\n",
      "           3       0.56      0.65      0.60       110\n",
      "\n",
      "    accuracy                           0.52       400\n",
      "   macro avg       0.51      0.52      0.51       400\n",
      "weighted avg       0.51      0.52      0.52       400\n",
      "\n"
     ]
    }
   ],
   "source": [
    "print(classification_report(y_test,mnbresult))"
   ]
  },
  {
   "cell_type": "code",
   "execution_count": 61,
   "id": "28cd5145-f5f0-44d3-933c-e57e5c195501",
   "metadata": {},
   "outputs": [],
   "source": [
    "from sklearn.neighbors import KNeighborsClassifier"
   ]
  },
  {
   "cell_type": "code",
   "execution_count": 62,
   "id": "94fdacc8-1eea-485f-96c0-0fdc440cf890",
   "metadata": {},
   "outputs": [],
   "source": [
    "neigh = KNeighborsClassifier(n_neighbors=3)"
   ]
  },
  {
   "cell_type": "code",
   "execution_count": 63,
   "id": "29481142-b9de-4f25-a5ef-6f19b702be95",
   "metadata": {},
   "outputs": [
    {
     "data": {
      "text/plain": [
       "KNeighborsClassifier(n_neighbors=3)"
      ]
     },
     "execution_count": 63,
     "metadata": {},
     "output_type": "execute_result"
    }
   ],
   "source": [
    "neigh.fit(X_train, y_train)"
   ]
  },
  {
   "cell_type": "code",
   "execution_count": 64,
   "id": "3d2756c5-4f42-493b-8dc6-03a9f09d1a50",
   "metadata": {},
   "outputs": [],
   "source": [
    "neig = neigh.predict(X_test)"
   ]
  },
  {
   "cell_type": "code",
   "execution_count": 65,
   "id": "c10326a2-7bda-450f-aa16-a1eaa4b70c52",
   "metadata": {},
   "outputs": [
    {
     "data": {
      "text/plain": [
       "array([1, 0, 0, 1, 3, 2, 1, 3, 3, 1, 0, 1, 0, 1, 3, 2, 2, 2, 3, 1, 2, 2,\n",
       "       3, 2, 0, 1, 0, 0, 1, 1, 2, 0, 0, 0, 0, 1, 3, 1, 3, 2, 3, 3, 1, 3,\n",
       "       2, 1, 1, 2, 2, 3, 2, 1, 2, 3, 0, 3, 0, 3, 1, 1, 1, 3, 0, 2, 1, 3,\n",
       "       1, 2, 3, 0, 2, 1, 3, 2, 3, 2, 1, 3, 2, 3, 0, 3, 3, 3, 3, 2, 0, 0,\n",
       "       1, 3, 2, 3, 3, 1, 1, 1, 3, 2, 3, 0, 2, 2, 0, 0, 3, 0, 3, 0, 2, 3,\n",
       "       0, 0, 3, 0, 3, 0, 1, 0, 2, 2, 1, 0, 2, 3, 3, 2, 3, 2, 3, 1, 2, 3,\n",
       "       0, 2, 2, 3, 3, 3, 0, 1, 3, 0, 0, 3, 2, 1, 1, 1, 2, 2, 3, 0, 3, 1,\n",
       "       3, 0, 1, 2, 3, 3, 0, 3, 0, 2, 3, 0, 3, 0, 1, 0, 1, 1, 1, 2, 0, 2,\n",
       "       3, 3, 1, 2, 1, 2, 0, 1, 1, 0, 3, 2, 1, 1, 3, 3, 3, 0, 1, 3, 1, 2,\n",
       "       1, 0, 0, 3, 0, 1, 3, 3, 3, 0, 2, 1, 3, 0, 1, 3, 1, 3, 1, 0, 2, 2,\n",
       "       0, 1, 3, 0, 1, 0, 1, 3, 1, 0, 1, 3, 2, 2, 0, 0, 1, 1, 3, 1, 0, 1,\n",
       "       1, 3, 1, 2, 0, 2, 2, 1, 0, 1, 2, 1, 0, 3, 3, 3, 2, 3, 1, 2, 0, 3,\n",
       "       0, 3, 1, 2, 0, 2, 3, 3, 0, 1, 1, 1, 1, 3, 0, 1, 3, 3, 2, 3, 0, 1,\n",
       "       0, 1, 1, 0, 3, 1, 1, 3, 3, 1, 0, 3, 3, 1, 1, 1, 2, 3, 1, 1, 3, 2,\n",
       "       1, 3, 2, 1, 3, 2, 1, 1, 3, 3, 0, 2, 0, 1, 3, 0, 2, 3, 2, 1, 3, 0,\n",
       "       2, 1, 1, 3, 1, 2, 0, 0, 1, 2, 1, 1, 2, 3, 0, 0, 1, 0, 2, 3, 3, 0,\n",
       "       0, 2, 0, 3, 2, 3, 0, 1, 3, 1, 3, 1, 2, 1, 1, 2, 2, 1, 0, 1, 2, 0,\n",
       "       1, 0, 3, 2, 1, 0, 3, 0, 3, 0, 1, 1, 0, 2, 1, 1, 2, 0, 1, 2, 0, 1,\n",
       "       3, 2, 3, 2], dtype=int64)"
      ]
     },
     "execution_count": 65,
     "metadata": {},
     "output_type": "execute_result"
    }
   ],
   "source": [
    "neig"
   ]
  },
  {
   "cell_type": "code",
   "execution_count": 66,
   "id": "b3f2fe0c-c31d-405a-8110-ca853f7a6039",
   "metadata": {},
   "outputs": [
    {
     "name": "stdout",
     "output_type": "stream",
     "text": [
      "              precision    recall  f1-score   support\n",
      "\n",
      "           0       0.97      0.95      0.96        93\n",
      "           1       0.89      0.95      0.92       107\n",
      "           2       0.93      0.86      0.89        90\n",
      "           3       0.95      0.96      0.95       110\n",
      "\n",
      "    accuracy                           0.93       400\n",
      "   macro avg       0.93      0.93      0.93       400\n",
      "weighted avg       0.93      0.93      0.93       400\n",
      "\n"
     ]
    }
   ],
   "source": [
    "print(classification_report(y_test,neig))"
   ]
  },
  {
   "cell_type": "code",
   "execution_count": 67,
   "id": "9eeb2650-9996-43f5-bb21-d65f7c427237",
   "metadata": {},
   "outputs": [],
   "source": [
    "from sklearn.model_selection import GridSearchCV"
   ]
  },
  {
   "cell_type": "code",
   "execution_count": 68,
   "id": "9f4ee66e-af47-45b4-8796-f105d6651ee5",
   "metadata": {},
   "outputs": [],
   "source": [
    "params={ \"n_neighbors\":[1,2,3,4,5,6,7,8,9,10,11,12,13]}"
   ]
  },
  {
   "cell_type": "code",
   "execution_count": 69,
   "id": "82b916fd-625a-4ad4-8339-145a19336f0f",
   "metadata": {},
   "outputs": [],
   "source": [
    "ne = KNeighborsClassifier()"
   ]
  },
  {
   "cell_type": "code",
   "execution_count": 70,
   "id": "94ee080f-22fb-40a5-b454-0542fdccbd56",
   "metadata": {},
   "outputs": [
    {
     "name": "stdout",
     "output_type": "stream",
     "text": [
      "Fitting 10 folds for each of 13 candidates, totalling 130 fits\n"
     ]
    }
   ],
   "source": [
    "model = GridSearchCV(ne,params,cv = 10, n_jobs = -1, verbose = 2).fit(X_train, y_train)"
   ]
  },
  {
   "cell_type": "code",
   "execution_count": 71,
   "id": "3caf20cb-e665-4e15-8d35-325aa9dd15e9",
   "metadata": {},
   "outputs": [
    {
     "data": {
      "text/plain": [
       "GridSearchCV(cv=10, estimator=KNeighborsClassifier(), n_jobs=-1,\n",
       "             param_grid={'n_neighbors': [1, 2, 3, 4, 5, 6, 7, 8, 9, 10, 11, 12,\n",
       "                                         13]},\n",
       "             verbose=2)"
      ]
     },
     "execution_count": 71,
     "metadata": {},
     "output_type": "execute_result"
    }
   ],
   "source": [
    "model"
   ]
  },
  {
   "cell_type": "code",
   "execution_count": 72,
   "id": "5025bb5e-7a02-4f46-80f0-de7b8c77175d",
   "metadata": {},
   "outputs": [
    {
     "data": {
      "text/plain": [
       "{'n_neighbors': 9}"
      ]
     },
     "execution_count": 72,
     "metadata": {},
     "output_type": "execute_result"
    }
   ],
   "source": [
    "model.best_params_"
   ]
  },
  {
   "cell_type": "code",
   "execution_count": 73,
   "id": "3ec23933-d824-427b-9821-e245f9b70693",
   "metadata": {},
   "outputs": [],
   "source": [
    "son = KNeighborsClassifier(n_neighbors=9)"
   ]
  },
  {
   "cell_type": "code",
   "execution_count": 74,
   "id": "1b1219be-05c5-49ca-9afa-e62eecd6d481",
   "metadata": {},
   "outputs": [
    {
     "data": {
      "text/plain": [
       "KNeighborsClassifier(n_neighbors=9)"
      ]
     },
     "execution_count": 74,
     "metadata": {},
     "output_type": "execute_result"
    }
   ],
   "source": [
    "son.fit(X_train, y_train)"
   ]
  },
  {
   "cell_type": "code",
   "execution_count": 75,
   "id": "bd0429fd-8d43-4896-9e33-dc9559bcc5c7",
   "metadata": {},
   "outputs": [],
   "source": [
    "s = son.predict(X_test)"
   ]
  },
  {
   "cell_type": "code",
   "execution_count": 76,
   "id": "e35653c4-f6ff-437e-8f29-98dbf633e938",
   "metadata": {},
   "outputs": [
    {
     "data": {
      "text/plain": [
       "array([1, 1, 0, 1, 3, 2, 0, 3, 3, 1, 0, 1, 0, 1, 3, 2, 2, 2, 3, 1, 2, 2,\n",
       "       3, 2, 0, 1, 0, 0, 1, 1, 2, 0, 0, 0, 0, 1, 3, 1, 3, 1, 3, 3, 1, 3,\n",
       "       2, 1, 1, 2, 2, 3, 2, 1, 2, 3, 0, 3, 0, 3, 1, 1, 2, 3, 0, 2, 1, 3,\n",
       "       1, 2, 3, 0, 2, 1, 3, 2, 3, 2, 1, 3, 2, 3, 0, 3, 3, 3, 3, 2, 0, 0,\n",
       "       1, 3, 2, 3, 3, 1, 1, 1, 3, 2, 3, 0, 2, 2, 0, 0, 3, 0, 3, 0, 2, 3,\n",
       "       0, 0, 3, 0, 3, 0, 1, 0, 2, 3, 1, 0, 2, 3, 3, 2, 3, 2, 3, 1, 2, 3,\n",
       "       0, 2, 2, 3, 3, 3, 0, 1, 3, 0, 0, 3, 1, 1, 1, 1, 2, 2, 3, 0, 3, 1,\n",
       "       3, 0, 1, 2, 2, 3, 0, 3, 0, 2, 2, 0, 3, 0, 1, 0, 1, 2, 1, 2, 0, 2,\n",
       "       3, 3, 1, 2, 1, 2, 0, 1, 1, 0, 3, 2, 1, 1, 3, 3, 3, 0, 1, 3, 1, 2,\n",
       "       0, 0, 0, 3, 0, 1, 3, 3, 3, 0, 2, 1, 3, 0, 1, 3, 1, 3, 1, 0, 2, 3,\n",
       "       0, 1, 3, 0, 1, 0, 1, 3, 1, 0, 1, 3, 2, 2, 0, 0, 1, 1, 3, 1, 0, 1,\n",
       "       1, 3, 1, 2, 0, 2, 2, 1, 0, 0, 2, 1, 0, 3, 3, 3, 2, 3, 1, 2, 0, 3,\n",
       "       1, 3, 1, 2, 0, 2, 3, 3, 0, 1, 1, 1, 1, 3, 0, 1, 3, 3, 2, 3, 0, 1,\n",
       "       0, 1, 1, 0, 3, 1, 1, 3, 3, 1, 0, 3, 3, 1, 1, 1, 2, 3, 1, 1, 3, 2,\n",
       "       1, 2, 2, 1, 3, 2, 1, 1, 2, 3, 0, 2, 0, 1, 3, 0, 2, 3, 2, 0, 3, 0,\n",
       "       2, 1, 1, 3, 1, 2, 0, 0, 1, 2, 1, 1, 2, 3, 0, 0, 1, 0, 2, 3, 3, 0,\n",
       "       0, 2, 0, 3, 2, 3, 0, 1, 3, 1, 3, 1, 2, 1, 1, 2, 2, 1, 0, 1, 2, 0,\n",
       "       1, 0, 3, 2, 1, 0, 3, 0, 3, 0, 1, 1, 0, 2, 1, 1, 2, 0, 1, 2, 0, 1,\n",
       "       3, 2, 2, 2], dtype=int64)"
      ]
     },
     "execution_count": 76,
     "metadata": {},
     "output_type": "execute_result"
    }
   ],
   "source": [
    "s"
   ]
  },
  {
   "cell_type": "code",
   "execution_count": 77,
   "id": "1b631038-6407-4a8e-9b7a-a1472d4e6af5",
   "metadata": {},
   "outputs": [
    {
     "name": "stdout",
     "output_type": "stream",
     "text": [
      "              precision    recall  f1-score   support\n",
      "\n",
      "           0       0.96      0.96      0.96        93\n",
      "           1       0.90      0.94      0.92       107\n",
      "           2       0.91      0.87      0.89        90\n",
      "           3       0.95      0.95      0.95       110\n",
      "\n",
      "    accuracy                           0.93       400\n",
      "   macro avg       0.93      0.93      0.93       400\n",
      "weighted avg       0.93      0.93      0.93       400\n",
      "\n"
     ]
    }
   ],
   "source": [
    "print(classification_report(y_test,s))"
   ]
  },
  {
   "cell_type": "code",
   "execution_count": 78,
   "id": "326d1e9d-b56d-43e5-a9cd-91e10ddb91e0",
   "metadata": {},
   "outputs": [],
   "source": [
    "from sklearn.metrics import roc_auc_score"
   ]
  },
  {
   "cell_type": "code",
   "execution_count": 79,
   "id": "23a80bf0-a74a-44d6-97ba-97666b3f17ab",
   "metadata": {},
   "outputs": [
    {
     "data": {
      "text/plain": [
       "0.9924771889359446"
      ]
     },
     "execution_count": 79,
     "metadata": {},
     "output_type": "execute_result"
    }
   ],
   "source": [
    "roc_auc_score(y_test, son.predict_proba(X_test), multi_class='ovr')"
   ]
  },
  {
   "cell_type": "code",
   "execution_count": 80,
   "id": "ad7cd331-a818-45ee-93ee-dfe3718ceed2",
   "metadata": {},
   "outputs": [],
   "source": [
    "import matplotlib.pyplot as plt\n",
    "from sklearn.metrics import plot_confusion_matrix"
   ]
  },
  {
   "cell_type": "code",
   "execution_count": 90,
   "id": "9ca4353f-c1c5-4c05-9410-ba1f5912ea20",
   "metadata": {},
   "outputs": [
    {
     "data": {
      "text/plain": [
       "<sklearn.metrics._plot.confusion_matrix.ConfusionMatrixDisplay at 0x1d1beaa4e50>"
      ]
     },
     "execution_count": 90,
     "metadata": {},
     "output_type": "execute_result"
    },
    {
     "data": {
      "text/plain": [
       "<Figure size 3600x3600 with 0 Axes>"
      ]
     },
     "metadata": {},
     "output_type": "display_data"
    },
    {
     "data": {
      "image/png": "[encoded data removed]",
      "text/plain": [
       "<Figure size 432x288 with 2 Axes>"
      ]
     },
     "metadata": {
      "needs_background": "light"
     },
     "output_type": "display_data"
    }
   ],
   "source": [
    "fig2 = plt.figure(figsize=(50, 50))\n",
    "plot_confusion_matrix(son, X_test, y_test)"
   ]
  },
  {
   "cell_type": "code",
   "execution_count": 91,
   "id": "d91366b2-d1f0-43b8-8fc1-5223c9a45236",
   "metadata": {},
   "outputs": [],
   "source": [
    " from sklearn.ensemble import RandomForestClassifier"
   ]
  },
  {
   "cell_type": "code",
   "execution_count": 124,
   "id": "2eac6557-9d37-4edd-8828-d80a02d81c0a",
   "metadata": {},
   "outputs": [],
   "source": [
    "clf = RandomForestClassifier(max_depth=5, random_state=0).fit(X_train, y_train)"
   ]
  },
  {
   "cell_type": "code",
   "execution_count": 119,
   "id": "c48cdaa2-6e89-48ec-b178-188ea778259c",
   "metadata": {},
   "outputs": [
    {
     "data": {
      "text/plain": [
       "RandomForestClassifier(max_depth=55, random_state=0)"
      ]
     },
     "execution_count": 119,
     "metadata": {},
     "output_type": "execute_result"
    }
   ],
   "source": [
    "clf"
   ]
  },
  {
   "cell_type": "code",
   "execution_count": 120,
   "id": "4ed86e06-42c9-4988-b085-661baf2808bc",
   "metadata": {},
   "outputs": [],
   "source": [
    "pred = clf.predict(X_test)"
   ]
  },
  {
   "cell_type": "code",
   "execution_count": 121,
   "id": "fae58422-a9de-49b6-98a4-5fcd89d2bf64",
   "metadata": {},
   "outputs": [
    {
     "data": {
      "text/plain": [
       "array([0, 1, 0, 1, 3, 2, 1, 3, 3, 1, 0, 1, 0, 1, 3, 2, 2, 2, 3, 2, 2, 2,\n",
       "       2, 2, 0, 2, 0, 0, 2, 1, 2, 0, 0, 0, 0, 1, 3, 1, 3, 2, 3, 3, 1, 3,\n",
       "       2, 1, 0, 2, 2, 3, 2, 1, 2, 3, 0, 3, 0, 3, 1, 1, 2, 3, 0, 3, 1, 3,\n",
       "       0, 2, 3, 0, 2, 1, 2, 2, 3, 2, 1, 3, 2, 3, 1, 3, 3, 3, 3, 2, 0, 0,\n",
       "       1, 3, 1, 3, 3, 1, 1, 1, 2, 2, 3, 0, 2, 2, 0, 0, 3, 0, 2, 0, 2, 3,\n",
       "       0, 0, 3, 0, 3, 0, 1, 0, 3, 3, 1, 0, 2, 3, 3, 2, 3, 2, 3, 1, 2, 3,\n",
       "       0, 2, 2, 3, 3, 3, 0, 1, 3, 0, 0, 3, 1, 1, 1, 1, 2, 3, 3, 0, 2, 1,\n",
       "       3, 0, 1, 2, 2, 3, 0, 3, 0, 2, 2, 0, 3, 0, 1, 0, 1, 2, 1, 2, 0, 2,\n",
       "       3, 3, 1, 2, 1, 2, 0, 1, 1, 0, 2, 2, 2, 1, 3, 3, 3, 0, 1, 3, 1, 2,\n",
       "       0, 0, 0, 3, 0, 1, 3, 3, 2, 0, 2, 1, 2, 0, 1, 2, 1, 3, 1, 0, 2, 2,\n",
       "       0, 1, 3, 0, 1, 0, 1, 3, 1, 0, 1, 3, 2, 2, 0, 0, 1, 1, 3, 1, 0, 1,\n",
       "       1, 2, 1, 2, 0, 2, 2, 0, 0, 1, 3, 1, 0, 3, 3, 3, 2, 3, 1, 2, 0, 3,\n",
       "       0, 3, 2, 2, 0, 2, 3, 3, 0, 1, 1, 1, 1, 3, 0, 1, 3, 3, 2, 3, 0, 1,\n",
       "       0, 1, 1, 0, 3, 1, 1, 3, 3, 1, 0, 3, 3, 2, 1, 1, 2, 3, 0, 1, 3, 2,\n",
       "       1, 3, 3, 1, 3, 2, 1, 1, 3, 3, 0, 2, 0, 1, 3, 0, 2, 3, 2, 0, 3, 0,\n",
       "       2, 1, 2, 3, 1, 2, 0, 0, 1, 2, 1, 1, 2, 3, 0, 0, 1, 0, 2, 3, 3, 0,\n",
       "       0, 2, 0, 3, 2, 3, 0, 1, 3, 1, 3, 1, 2, 1, 0, 2, 2, 1, 0, 1, 2, 0,\n",
       "       1, 0, 2, 2, 1, 0, 3, 0, 3, 0, 1, 1, 0, 2, 1, 2, 2, 0, 1, 2, 0, 1,\n",
       "       3, 2, 3, 2], dtype=int64)"
      ]
     },
     "execution_count": 121,
     "metadata": {},
     "output_type": "execute_result"
    }
   ],
   "source": [
    "pred"
   ]
  },
  {
   "cell_type": "code",
   "execution_count": 122,
   "id": "f61c18bb-57a8-4fa0-9e28-911397110366",
   "metadata": {},
   "outputs": [
    {
     "name": "stdout",
     "output_type": "stream",
     "text": [
      "              precision    recall  f1-score   support\n",
      "\n",
      "           0       0.95      0.99      0.97        93\n",
      "           1       0.94      0.88      0.91       107\n",
      "           2       0.80      0.87      0.83        90\n",
      "           3       0.93      0.89      0.91       110\n",
      "\n",
      "    accuracy                           0.91       400\n",
      "   macro avg       0.90      0.91      0.90       400\n",
      "weighted avg       0.91      0.91      0.91       400\n",
      "\n"
     ]
    }
   ],
   "source": [
    "print(classification_report(y_test,pred))"
   ]
  },
  {
   "cell_type": "code",
   "execution_count": 127,
   "id": "71108c08-ad19-4bab-8fc7-379b85fc6021",
   "metadata": {},
   "outputs": [],
   "source": [
    "para={ \"max_depth\":[1,3,4,5,41,7,25,9,10,33,12,17]}"
   ]
  },
  {
   "cell_type": "code",
   "execution_count": 128,
   "id": "afba8195-0dd8-4b04-8767-1ab987baf459",
   "metadata": {},
   "outputs": [
    {
     "name": "stdout",
     "output_type": "stream",
     "text": [
      "Fitting 10 folds for each of 12 candidates, totalling 120 fits\n"
     ]
    }
   ],
   "source": [
    "forest = GridSearchCV(clf,para,cv = 10, n_jobs = -1, verbose = 2).fit(X_train, y_train)"
   ]
  },
  {
   "cell_type": "code",
   "execution_count": 130,
   "id": "daf18b2d-0016-4f4a-9929-8f3b5cb8ef1c",
   "metadata": {},
   "outputs": [
    {
     "data": {
      "text/plain": [
       "{'max_depth': 17}"
      ]
     },
     "execution_count": 130,
     "metadata": {},
     "output_type": "execute_result"
    }
   ],
   "source": [
    "forest.best_params_"
   ]
  },
  {
   "cell_type": "code",
   "execution_count": 131,
   "id": "e0ed5c8a-c5f8-4f92-b1e2-d51ae48bea4c",
   "metadata": {},
   "outputs": [],
   "source": [
    "clfv2 = RandomForestClassifier(max_depth=17, random_state=0).fit(X_train, y_train)"
   ]
  },
  {
   "cell_type": "code",
   "execution_count": 132,
   "id": "5adf61a3-bd35-4d03-a819-e34fc202c1c7",
   "metadata": {},
   "outputs": [],
   "source": [
    "predv2 = clfv2.predict(X_test)"
   ]
  },
  {
   "cell_type": "code",
   "execution_count": 133,
   "id": "728e0a99-6e52-471c-9f82-e0e01759250f",
   "metadata": {},
   "outputs": [
    {
     "name": "stdout",
     "output_type": "stream",
     "text": [
      "              precision    recall  f1-score   support\n",
      "\n",
      "           0       0.95      0.99      0.97        93\n",
      "           1       0.92      0.90      0.91       107\n",
      "           2       0.82      0.83      0.82        90\n",
      "           3       0.93      0.90      0.91       110\n",
      "\n",
      "    accuracy                           0.91       400\n",
      "   macro avg       0.90      0.90      0.90       400\n",
      "weighted avg       0.91      0.91      0.90       400\n",
      "\n"
     ]
    }
   ],
   "source": [
    "print(classification_report(y_test,predv2))"
   ]
  },
  {
   "cell_type": "code",
   "execution_count": 135,
   "id": "adf8269a-0c1d-4b90-a046-0625ac8417ea",
   "metadata": {},
   "outputs": [
    {
     "data": {
      "text/plain": [
       "<sklearn.metrics._plot.confusion_matrix.ConfusionMatrixDisplay at 0x1d1c0922070>"
      ]
     },
     "execution_count": 135,
     "metadata": {},
     "output_type": "execute_result"
    },
    {
     "data": {
      "text/plain": [
       "<Figure size 3600x3600 with 0 Axes>"
      ]
     },
     "metadata": {},
     "output_type": "display_data"
    },
    {
     "data": {
      "image/png": "[encoded data removed]",
      "text/plain": [
       "<Figure size 432x288 with 2 Axes>"
      ]
     },
     "metadata": {
      "needs_background": "light"
     },
     "output_type": "display_data"
    }
   ],
   "source": [
    "fig2 = plt.figure(figsize=(50, 50))\n",
    "plot_confusion_matrix(clfv2, X_test, y_test)"
   ]
  },
  {
   "cell_type": "code",
   "execution_count": 136,
   "id": "913e858a-08b3-4d8c-8f65-b854213dc5fd",
   "metadata": {},
   "outputs": [
    {
     "data": {
      "text/plain": [
       "0.9834465745725878"
      ]
     },
     "execution_count": 136,
     "metadata": {},
     "output_type": "execute_result"
    }
   ],
   "source": [
    "roc_auc_score(y_test, clfv2.predict_proba(X_test), multi_class='ovr')"
   ]
  }
 ],
 "metadata": {
  "kernelspec": {
   "display_name": "Python 3",
   "language": "python",
   "name": "python3"
  },
  "language_info": {
   "codemirror_mode": {
    "name": "ipython",
    "version": 3
   },
   "file_extension": ".py",
   "mimetype": "text/x-python",
   "name": "python",
   "nbconvert_exporter": "python",
   "pygments_lexer": "ipython3",
   "version": "3.8.8"
  }
 },
 "nbformat": 4,
 "nbformat_minor": 5
}
